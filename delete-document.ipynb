{
 "cells": [
  {
   "cell_type": "markdown",
   "id": "d2129840-3d38-41bb-a3b8-7105dddcf1c1",
   "metadata": {},
   "source": [
    "# Export all data"
   ]
  },
  {
   "cell_type": "markdown",
   "id": "6c50ec6c-f82f-42cb-bda2-ed12cca5179f",
   "metadata": {},
   "source": [
    "Delete documents that have not been updated. "
   ]
  },
  {
   "cell_type": "code",
   "execution_count": 101,
   "id": "a0ae3f37-8155-4db4-be88-10da29f78f77",
   "metadata": {},
   "outputs": [],
   "source": [
    "target_file_name = 'doc-20221107-2.json'"
   ]
  },
  {
   "cell_type": "code",
   "execution_count": 102,
   "id": "5d934ebd-3cc3-4c2e-b990-03768502a171",
   "metadata": {},
   "outputs": [],
   "source": [
    "!algolia objects browse aws-doc-jp > $target_file_name"
   ]
  },
  {
   "cell_type": "code",
   "execution_count": 103,
   "id": "42cfc0a7-349a-4e11-bb0a-dfbfb98ef9ac",
   "metadata": {},
   "outputs": [
    {
     "name": "stdout",
     "output_type": "stream",
     "text": [
      "   39639 doc-20221107-2.json\n"
     ]
    }
   ],
   "source": [
    "!wc -l $target_file_name"
   ]
  },
  {
   "cell_type": "code",
   "execution_count": 104,
   "id": "04d988a8-9671-4ce9-bbfd-9096b4f27dd7",
   "metadata": {},
   "outputs": [],
   "source": [
    "import jsonlines\n",
    "from datetime import datetime\n",
    "\n",
    "all_doc = []\n",
    "with jsonlines.open(target_file_name) as reader:\n",
    "    for doc in reader:\n",
    "        dt = datetime.strptime(doc[\"last_modified\"],\"%Y-%m-%dT%H:%M:%S\")\n",
    "        all_doc.append({\n",
    "            \"objectID\": doc[\"objectID\"],\n",
    "            \"last_modified\": dt,\n",
    "            \"title\": doc[\"title\"]\n",
    "        })\n",
    "        "
   ]
  },
  {
   "cell_type": "code",
   "execution_count": 105,
   "id": "d14f0bce-5b2a-4a74-bf93-1c85387cab1e",
   "metadata": {},
   "outputs": [
    {
     "data": {
      "text/plain": [
       "39639"
      ]
     },
     "execution_count": 105,
     "metadata": {},
     "output_type": "execute_result"
    }
   ],
   "source": [
    "len(all_doc)"
   ]
  },
  {
   "cell_type": "code",
   "execution_count": 106,
   "id": "cef6f1d8-8da2-486c-b2f1-676b369192ab",
   "metadata": {},
   "outputs": [
    {
     "data": {
      "text/plain": [
       "[{'objectID': 'https://docs.aws.amazon.com/ja_jp/lake-formation/latest/dg/implicit-permissions.html',\n",
       "  'last_modified': datetime.datetime(2022, 11, 4, 11, 46, 36),\n",
       "  'title': '黙示的な Lake Formation 許可 - AWS Lake Formation'},\n",
       " {'objectID': 'https://docs.aws.amazon.com/ja_jp/mediaconvert/latest/ug/video-padding.html',\n",
       "  'last_modified': datetime.datetime(2022, 11, 4, 11, 46, 41),\n",
       "  'title': '黒いビデオフレームによるビデオのパディング - MediaConvert'},\n",
       " {'objectID': 'https://docs.aws.amazon.com/ja_jp/neptune/latest/userguide/manage-console-fast-reset.html',\n",
       "  'last_modified': datetime.datetime(2022, 11, 4, 11, 49, 42),\n",
       "  'title': '高速リセット API を使用して Amazon Neptune DB クラスターを空にする - Amazon Neptune'},\n",
       " {'objectID': 'https://docs.aws.amazon.com/ja_jp/lumberyard/latest/userguide/gems-system-gem-fast-noise.html',\n",
       "  'last_modified': datetime.datetime(2022, 11, 4, 12, 0, 31),\n",
       "  'title': '高速ノイズ Gem - Lumberyard ユーザーガイド'},\n",
       " {'objectID': 'https://docs.aws.amazon.com/ja_jp/AmazonRDS/latest/AuroraUserGuide/AuroraMySQL.Managing.FastDDL.html',\n",
       "  'last_modified': datetime.datetime(2022, 10, 28, 2, 50, 49),\n",
       "  'title': '高速 DDL を使用して Amazon Aurora でテーブルを変更する - Amazon Aurora'},\n",
       " {'objectID': 'https://docs.aws.amazon.com/ja_jp/dcv/latest/userguide/using-av-sync.html',\n",
       "  'last_modified': datetime.datetime(2022, 11, 4, 11, 46, 21),\n",
       "  'title': '高精度のオーディオ/ビデオ同期の使用 - NICE DCV'},\n",
       " {'objectID': 'https://docs.aws.amazon.com/ja_jp/lumberyard/latest/userguide/particle-advanced.html',\n",
       "  'last_modified': datetime.datetime(2022, 11, 4, 12, 3, 24),\n",
       "  'title': '高度パーティクル技術 - Lumberyard ユーザーガイド'},\n",
       " {'objectID': 'https://docs.aws.amazon.com/ja_jp/lumberyard/latest/userguide/component-gradients-altitude.html',\n",
       "  'last_modified': datetime.datetime(2022, 11, 4, 11, 55, 57),\n",
       "  'title': '高度グラデーション - Lumberyard ユーザーガイド'},\n",
       " {'objectID': 'https://docs.aws.amazon.com/ja_jp/glue/latest/dg/dev-endpoint-sharing.html',\n",
       "  'last_modified': datetime.datetime(2022, 11, 4, 11, 47, 58),\n",
       "  'title': '高度な設定: 複数のユーザー間で開発エンドポイントを共有する - AWS Glue'},\n",
       " {'objectID': 'https://docs.aws.amazon.com/ja_jp/lumberyard/latest/userguide/particle-editor-reference-advanced.html',\n",
       "  'last_modified': datetime.datetime(2022, 11, 3, 11, 14, 21),\n",
       "  'title': '高度な属性 - Lumberyard ユーザーガイド'}]"
      ]
     },
     "execution_count": 106,
     "metadata": {},
     "output_type": "execute_result"
    }
   ],
   "source": [
    "all_doc[0:10]"
   ]
  },
  {
   "cell_type": "code",
   "execution_count": 107,
   "id": "6c46f360-560a-4864-8519-1de8b1adda40",
   "metadata": {},
   "outputs": [],
   "source": [
    "import pandas as pd\n",
    "\n",
    "all_doc_df = pd.DataFrame(all_doc)"
   ]
  },
  {
   "cell_type": "code",
   "execution_count": 108,
   "id": "c96ceda2-7aed-44ae-9d66-8eaf4b50b3b8",
   "metadata": {},
   "outputs": [
    {
     "data": {
      "text/html": [
       "<div>\n",
       "<style scoped>\n",
       "    .dataframe tbody tr th:only-of-type {\n",
       "        vertical-align: middle;\n",
       "    }\n",
       "\n",
       "    .dataframe tbody tr th {\n",
       "        vertical-align: top;\n",
       "    }\n",
       "\n",
       "    .dataframe thead th {\n",
       "        text-align: right;\n",
       "    }\n",
       "</style>\n",
       "<table border=\"1\" class=\"dataframe\">\n",
       "  <thead>\n",
       "    <tr style=\"text-align: right;\">\n",
       "      <th></th>\n",
       "      <th>objectID</th>\n",
       "      <th>last_modified</th>\n",
       "      <th>title</th>\n",
       "    </tr>\n",
       "  </thead>\n",
       "  <tbody>\n",
       "    <tr>\n",
       "      <th>28735</th>\n",
       "      <td>https://docs.aws.amazon.com/ja_jp/migrationhub...</td>\n",
       "      <td>2022-09-02 16:48:46</td>\n",
       "      <td>AWS へのサインアップ - Migration Hub 戦略推奨事項</td>\n",
       "    </tr>\n",
       "    <tr>\n",
       "      <th>23730</th>\n",
       "      <td>https://docs.aws.amazon.com/ja_jp/migrationhub...</td>\n",
       "      <td>2022-09-02 16:48:46</td>\n",
       "      <td>IAM ユーザーの作成 - Migration Hub 戦略推奨事項</td>\n",
       "    </tr>\n",
       "    <tr>\n",
       "      <th>11322</th>\n",
       "      <td>https://docs.aws.amazon.com/ja_jp/migrationhub...</td>\n",
       "      <td>2022-09-02 16:48:46</td>\n",
       "      <td>ステップ 2: 戦略レコメンデーションコレクターを展開する - Migration Hub ...</td>\n",
       "    </tr>\n",
       "    <tr>\n",
       "      <th>2650</th>\n",
       "      <td>https://docs.aws.amazon.com/ja_jp/migrationhub...</td>\n",
       "      <td>2022-09-02 16:48:47</td>\n",
       "      <td>戦略推奨事項での戦略推奨事項の表示 - Migration Hub 戦略推奨事項</td>\n",
       "    </tr>\n",
       "    <tr>\n",
       "      <th>2652</th>\n",
       "      <td>https://docs.aws.amazon.com/ja_jp/migrationhub...</td>\n",
       "      <td>2022-09-02 16:48:47</td>\n",
       "      <td>戦略レコメンデーション設定 - Migration Hub 戦略推奨事項</td>\n",
       "    </tr>\n",
       "    <tr>\n",
       "      <th>...</th>\n",
       "      <td>...</td>\n",
       "      <td>...</td>\n",
       "      <td>...</td>\n",
       "    </tr>\n",
       "    <tr>\n",
       "      <th>16101</th>\n",
       "      <td>https://docs.aws.amazon.com/ja_jp/AmazonS3/lat...</td>\n",
       "      <td>2022-11-05 02:08:05</td>\n",
       "      <td>の Amazon S3 リクエスト ID の取得AWS Support - Amazon S...</td>\n",
       "    </tr>\n",
       "    <tr>\n",
       "      <th>1558</th>\n",
       "      <td>https://docs.aws.amazon.com/ja_jp/AmazonS3/lat...</td>\n",
       "      <td>2022-11-05 02:08:05</td>\n",
       "      <td>症状別 Amazon S3 のトラブルシューティング - Amazon Simple Sto...</td>\n",
       "    </tr>\n",
       "    <tr>\n",
       "      <th>17395</th>\n",
       "      <td>https://docs.aws.amazon.com/ja_jp/AmazonS3/lat...</td>\n",
       "      <td>2022-11-05 02:08:06</td>\n",
       "      <td>Troubleshooting - Amazon Simple Storage Service</td>\n",
       "    </tr>\n",
       "    <tr>\n",
       "      <th>28479</th>\n",
       "      <td>https://docs.aws.amazon.com/ja_jp/AmazonS3/lat...</td>\n",
       "      <td>2022-11-05 02:08:28</td>\n",
       "      <td>AWS 用語集 - Amazon Simple Storage Service</td>\n",
       "    </tr>\n",
       "    <tr>\n",
       "      <th>8323</th>\n",
       "      <td>https://docs.aws.amazon.com/ja_jp/AmazonS3/lat...</td>\n",
       "      <td>2022-11-05 02:08:28</td>\n",
       "      <td>ドキュメント履歴 - Amazon Simple Storage Service</td>\n",
       "    </tr>\n",
       "  </tbody>\n",
       "</table>\n",
       "<p>39639 rows × 3 columns</p>\n",
       "</div>"
      ],
      "text/plain": [
       "                                                objectID       last_modified  \\\n",
       "28735  https://docs.aws.amazon.com/ja_jp/migrationhub... 2022-09-02 16:48:46   \n",
       "23730  https://docs.aws.amazon.com/ja_jp/migrationhub... 2022-09-02 16:48:46   \n",
       "11322  https://docs.aws.amazon.com/ja_jp/migrationhub... 2022-09-02 16:48:46   \n",
       "2650   https://docs.aws.amazon.com/ja_jp/migrationhub... 2022-09-02 16:48:47   \n",
       "2652   https://docs.aws.amazon.com/ja_jp/migrationhub... 2022-09-02 16:48:47   \n",
       "...                                                  ...                 ...   \n",
       "16101  https://docs.aws.amazon.com/ja_jp/AmazonS3/lat... 2022-11-05 02:08:05   \n",
       "1558   https://docs.aws.amazon.com/ja_jp/AmazonS3/lat... 2022-11-05 02:08:05   \n",
       "17395  https://docs.aws.amazon.com/ja_jp/AmazonS3/lat... 2022-11-05 02:08:06   \n",
       "28479  https://docs.aws.amazon.com/ja_jp/AmazonS3/lat... 2022-11-05 02:08:28   \n",
       "8323   https://docs.aws.amazon.com/ja_jp/AmazonS3/lat... 2022-11-05 02:08:28   \n",
       "\n",
       "                                                   title  \n",
       "28735                AWS へのサインアップ - Migration Hub 戦略推奨事項  \n",
       "23730                 IAM ユーザーの作成 - Migration Hub 戦略推奨事項  \n",
       "11322  ステップ 2: 戦略レコメンデーションコレクターを展開する - Migration Hub ...  \n",
       "2650            戦略推奨事項での戦略推奨事項の表示 - Migration Hub 戦略推奨事項  \n",
       "2652                戦略レコメンデーション設定 - Migration Hub 戦略推奨事項  \n",
       "...                                                  ...  \n",
       "16101  の Amazon S3 リクエスト ID の取得AWS Support - Amazon S...  \n",
       "1558   症状別 Amazon S3 のトラブルシューティング - Amazon Simple Sto...  \n",
       "17395    Troubleshooting - Amazon Simple Storage Service  \n",
       "28479            AWS 用語集 - Amazon Simple Storage Service  \n",
       "8323            ドキュメント履歴 - Amazon Simple Storage Service  \n",
       "\n",
       "[39639 rows x 3 columns]"
      ]
     },
     "execution_count": 108,
     "metadata": {},
     "output_type": "execute_result"
    }
   ],
   "source": [
    "all_doc_df.sort_values(\"last_modified\")"
   ]
  },
  {
   "cell_type": "markdown",
   "id": "a3def606-9281-4bd6-84fc-87ff7a7de9f6",
   "metadata": {},
   "source": [
    "# Search delete target documents"
   ]
  },
  {
   "cell_type": "code",
   "execution_count": 117,
   "id": "6695d71b-594f-443e-9f1c-be908c6b50fa",
   "metadata": {},
   "outputs": [
    {
     "data": {
      "text/html": [
       "<div>\n",
       "<style scoped>\n",
       "    .dataframe tbody tr th:only-of-type {\n",
       "        vertical-align: middle;\n",
       "    }\n",
       "\n",
       "    .dataframe tbody tr th {\n",
       "        vertical-align: top;\n",
       "    }\n",
       "\n",
       "    .dataframe thead th {\n",
       "        text-align: right;\n",
       "    }\n",
       "</style>\n",
       "<table border=\"1\" class=\"dataframe\">\n",
       "  <thead>\n",
       "    <tr style=\"text-align: right;\">\n",
       "      <th></th>\n",
       "      <th>objectID</th>\n",
       "      <th>last_modified</th>\n",
       "      <th>title</th>\n",
       "    </tr>\n",
       "  </thead>\n",
       "  <tbody>\n",
       "    <tr>\n",
       "      <th>4</th>\n",
       "      <td>https://docs.aws.amazon.com/ja_jp/AmazonRDS/la...</td>\n",
       "      <td>2022-10-28 02:50:49</td>\n",
       "      <td>高速 DDL を使用して Amazon Aurora でテーブルを変更する - Amazon...</td>\n",
       "    </tr>\n",
       "    <tr>\n",
       "      <th>21</th>\n",
       "      <td>https://docs.aws.amazon.com/ja_jp/prescriptive...</td>\n",
       "      <td>2022-10-05 07:23:53</td>\n",
       "      <td>高可用性 - AWS の規範的ガイダンス</td>\n",
       "    </tr>\n",
       "    <tr>\n",
       "      <th>22</th>\n",
       "      <td>https://docs.aws.amazon.com/ja_jp/whitepapers/...</td>\n",
       "      <td>2022-10-19 17:05:12</td>\n",
       "      <td>高可用性 - AWS でのマイクロサービスの実装</td>\n",
       "    </tr>\n",
       "    <tr>\n",
       "      <th>32</th>\n",
       "      <td>https://docs.aws.amazon.com/ja_jp/directconnec...</td>\n",
       "      <td>2022-10-31 23:11:11</td>\n",
       "      <td>高い回復性 - AWS Direct Connect</td>\n",
       "    </tr>\n",
       "    <tr>\n",
       "      <th>43</th>\n",
       "      <td>https://docs.aws.amazon.com/ja_jp/prescriptive...</td>\n",
       "      <td>2022-10-31 23:12:47</td>\n",
       "      <td>顧客が望むものと、規制当局が必要とするもの - AWS の規範的ガイダンス</td>\n",
       "    </tr>\n",
       "    <tr>\n",
       "      <th>...</th>\n",
       "      <td>...</td>\n",
       "      <td>...</td>\n",
       "      <td>...</td>\n",
       "    </tr>\n",
       "    <tr>\n",
       "      <th>39618</th>\n",
       "      <td>https://docs.aws.amazon.com/ja_jp/datapipeline...</td>\n",
       "      <td>2022-10-19 17:05:49</td>\n",
       "      <td>(オプション) Task Runner に対する Amazon RDS へのアクセス権限の付...</td>\n",
       "    </tr>\n",
       "    <tr>\n",
       "      <th>39622</th>\n",
       "      <td>https://docs.aws.amazon.com/ja_jp/AWSEC2/lates...</td>\n",
       "      <td>2022-10-28 03:05:20</td>\n",
       "      <td>(オプション) Linux 用 EC2Rescue の署名を検証する - Amazon El...</td>\n",
       "    </tr>\n",
       "    <tr>\n",
       "      <th>39627</th>\n",
       "      <td>https://docs.aws.amazon.com/ja_jp/systems-mana...</td>\n",
       "      <td>2022-10-30 23:58:53</td>\n",
       "      <td>(オプション) AWS CLI 用の Session Manager プラグインをインストー...</td>\n",
       "    </tr>\n",
       "    <tr>\n",
       "      <th>39629</th>\n",
       "      <td>https://docs.aws.amazon.com/ja_jp/prometheus/l...</td>\n",
       "      <td>2022-10-31 23:11:12</td>\n",
       "      <td>(オプション) Amazon SNS に JSON を出力するようにアラートマネージャーを設...</td>\n",
       "    </tr>\n",
       "    <tr>\n",
       "      <th>39630</th>\n",
       "      <td>https://docs.aws.amazon.com/ja_jp/prometheus/l...</td>\n",
       "      <td>2022-10-31 23:11:12</td>\n",
       "      <td>(オプション) Amazon SNS から他の宛先への送信 - Amazon Managed...</td>\n",
       "    </tr>\n",
       "  </tbody>\n",
       "</table>\n",
       "<p>9584 rows × 3 columns</p>\n",
       "</div>"
      ],
      "text/plain": [
       "                                                objectID       last_modified  \\\n",
       "4      https://docs.aws.amazon.com/ja_jp/AmazonRDS/la... 2022-10-28 02:50:49   \n",
       "21     https://docs.aws.amazon.com/ja_jp/prescriptive... 2022-10-05 07:23:53   \n",
       "22     https://docs.aws.amazon.com/ja_jp/whitepapers/... 2022-10-19 17:05:12   \n",
       "32     https://docs.aws.amazon.com/ja_jp/directconnec... 2022-10-31 23:11:11   \n",
       "43     https://docs.aws.amazon.com/ja_jp/prescriptive... 2022-10-31 23:12:47   \n",
       "...                                                  ...                 ...   \n",
       "39618  https://docs.aws.amazon.com/ja_jp/datapipeline... 2022-10-19 17:05:49   \n",
       "39622  https://docs.aws.amazon.com/ja_jp/AWSEC2/lates... 2022-10-28 03:05:20   \n",
       "39627  https://docs.aws.amazon.com/ja_jp/systems-mana... 2022-10-30 23:58:53   \n",
       "39629  https://docs.aws.amazon.com/ja_jp/prometheus/l... 2022-10-31 23:11:12   \n",
       "39630  https://docs.aws.amazon.com/ja_jp/prometheus/l... 2022-10-31 23:11:12   \n",
       "\n",
       "                                                   title  \n",
       "4      高速 DDL を使用して Amazon Aurora でテーブルを変更する - Amazon...  \n",
       "21                                  高可用性 - AWS の規範的ガイダンス  \n",
       "22                              高可用性 - AWS でのマイクロサービスの実装  \n",
       "32                            高い回復性 - AWS Direct Connect  \n",
       "43                 顧客が望むものと、規制当局が必要とするもの - AWS の規範的ガイダンス  \n",
       "...                                                  ...  \n",
       "39618  (オプション) Task Runner に対する Amazon RDS へのアクセス権限の付...  \n",
       "39622  (オプション) Linux 用 EC2Rescue の署名を検証する - Amazon El...  \n",
       "39627  (オプション) AWS CLI 用の Session Manager プラグインをインストー...  \n",
       "39629  (オプション) Amazon SNS に JSON を出力するようにアラートマネージャーを設...  \n",
       "39630  (オプション) Amazon SNS から他の宛先への送信 - Amazon Managed...  \n",
       "\n",
       "[9584 rows x 3 columns]"
      ]
     },
     "execution_count": 117,
     "metadata": {},
     "output_type": "execute_result"
    }
   ],
   "source": [
    "before_202211 = all_doc_df.query(\"last_modified <= '2022-11-01 00:00:00'\")\n",
    "before_202211"
   ]
  },
  {
   "cell_type": "code",
   "execution_count": 118,
   "id": "faa51075-fb11-450d-bca0-593c0109a2f5",
   "metadata": {},
   "outputs": [],
   "source": [
    "delete_target_list = before_202211.values.tolist()"
   ]
  },
  {
   "cell_type": "markdown",
   "id": "6d9c8aa8-049e-440d-9ba2-8737fb159409",
   "metadata": {},
   "source": [
    "# Delete documents\n",
    "\n",
    "- https://www.algolia.com/doc/api-client/getting-started/install/python/?client=python\n",
    "- https://www.algolia.com/doc/api-reference/api-methods/delete-objects/?client=python\n"
   ]
  },
  {
   "cell_type": "code",
   "execution_count": 119,
   "id": "76167adc-e1a2-45f4-8715-cea2ed2feef9",
   "metadata": {},
   "outputs": [],
   "source": [
    "from algoliasearch.search_client import SearchClient\n",
    "\n",
    "client = SearchClient.create('<api-id>', '<api-key>')\n",
    "index = client.init_index('<index-name>')\n",
    "\n",
    "# index.search('将軍')"
   ]
  },
  {
   "cell_type": "code",
   "execution_count": 123,
   "id": "b41b23f8-2fea-45a5-8d26-a8a11fc099c8",
   "metadata": {},
   "outputs": [],
   "source": [
    "delete_object_ids = [doc[0] for doc in delete_target_list]\n",
    "\n",
    "res= index.delete_objects(delete_object_ids)"
   ]
  }
 ],
 "metadata": {
  "kernelspec": {
   "display_name": "Python 3 (ipykernel)",
   "language": "python",
   "name": "python3"
  },
  "language_info": {
   "codemirror_mode": {
    "name": "ipython",
    "version": 3
   },
   "file_extension": ".py",
   "mimetype": "text/x-python",
   "name": "python",
   "nbconvert_exporter": "python",
   "pygments_lexer": "ipython3",
   "version": "3.9.13"
  },
  "toc-autonumbering": true
 },
 "nbformat": 4,
 "nbformat_minor": 5
}

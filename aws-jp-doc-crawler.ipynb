{
 "cells": [
  {
   "cell_type": "markdown",
   "metadata": {},
   "source": [
    "# AWS JP Doc 構成\n",
    "\n",
    "\n",
    "robots.txt に記載の sitemap.xml は ja_jp 専用のものは無い\n",
    "\n",
    "https://docs.aws.amazon.com/ja_jp/robots.txt\n",
    "```\n",
    " Sitemap: https://docs.aws.amazon.com/sitemap_index.xml\n",
    "```\n",
    "\n",
    "## 各サービスの sitemap のインデックスとなる sitemap.xml\n",
    "\n",
    "ja_jp の sitemap.xml へのリンクになっていない\n",
    "\n",
    "https://docs.aws.amazon.com/ja_jp/sitemap_index.xml\n",
    "```xml\n",
    "<sitemapindex xmlns=\"http://www.sitemaps.org/schemas/sitemap/0.9\">\n",
    "  <sitemap>\n",
    "  <loc>https://docs.aws.amazon.com/a4b/latest/ag/sitemap.xml</loc>\n",
    "  </sitemap>\n",
    "  ...\n",
    "  </sitemap>\n",
    "  <sitemap>\n",
    "  <loc>https://docs.aws.amazon.com/xray-sdk-for-java/latest/javadoc/sitemap.xml</loc>\n",
    "  </sitemap>\n",
    "</sitemapindex>\n",
    "```\n",
    "\n",
    "\n",
    "## 各サービスの sitemap.xml\n",
    "\n",
    "各サービスに対して ja_jp の sitemap.xml 自体は存在している\n",
    "\n",
    "https://docs.aws.amazon.com/ja_jp/redshift/latest/mgmt/sitemap.xml\n",
    "\n",
    "```xml\n",
    "<urlset xmlns=\"http://www.sitemaps.org/schemas/sitemap/0.9\">\n",
    "  <url>\n",
    "    <loc>https://docs.aws.amazon.com/ja_jp/redshift/latest/mgmt/welcome.html</loc>\n",
    "  </url>\n",
    "  <url>\n",
    "    <loc>https://docs.aws.amazon.com/ja_jp/redshift/latest/mgmt/overview.html</loc>\n",
    "  </url>\n",
    "  ...\n",
    "</urlset>\n",
    "```"
   ]
  },
  {
   "cell_type": "markdown",
   "metadata": {},
   "source": [
    "# 実装方針 \n",
    "\n",
    "保守性の向上とトラブルシューティングの簡易化のためにクローリングとスクレイピングを分けることにする\n",
    "\n",
    "1. Document クローリング\n",
    "    1. sitemap.xml を元にHTMLを取得\n",
    "    1. URL, created_at 等と一緒にraw html としてS3に保存\n",
    "1. Document スクレイピング\n",
    "    1. S3 から raw html を取得\n",
    "    1. indexing に必要な情報をスクレイピング\n",
    "    1. HTML body を正規化\n",
    "    1. Algolia に index upload"
   ]
  },
  {
   "cell_type": "markdown",
   "metadata": {},
   "source": [
    "# 調査\n"
   ]
  },
  {
   "cell_type": "code",
   "execution_count": 3,
   "metadata": {},
   "outputs": [],
   "source": [
    "import requests\n",
    "import xml.etree.ElementTree as ET"
   ]
  },
  {
   "cell_type": "code",
   "execution_count": 4,
   "metadata": {},
   "outputs": [],
   "source": [
    "root_sitemap = requests.get('https://docs.aws.amazon.com/sitemap_index.xml')"
   ]
  },
  {
   "cell_type": "code",
   "execution_count": 5,
   "metadata": {},
   "outputs": [
    {
     "data": {
      "text/plain": [
       "{'Server': 'Server', 'Date': 'Wed, 22 Jul 2020 07:37:28 GMT', 'Content-Type': 'text/xml', 'Content-Length': '7781', 'Connection': 'keep-alive', 'X-Frame-Options': 'SAMEORIGIN, SAMEORIGIN', 'Cache-Control': 'max-age=86400', 'Last-Modified': 'Wed, 22 Jul 2020 07:30:49 GMT', 'ETag': '\"1c115-5ab02b804b66f-gzip\"', 'Accept-Ranges': 'bytes', 'Content-Encoding': 'gzip', 'Vary': 'Accept-Encoding,User-Agent,Content-Type,Accept-Encoding,X-Amzn-CDN-Cache,X-Amzn-AX-Treatment,User-Agent', 'x-amz-rid': 'JZVDAGKDWF8WY0BGQVH5'}"
      ]
     },
     "execution_count": 5,
     "metadata": {},
     "output_type": "execute_result"
    }
   ],
   "source": [
    "root_sitemap.headers"
   ]
  },
  {
   "cell_type": "code",
   "execution_count": 6,
   "metadata": {},
   "outputs": [
    {
     "data": {
      "text/plain": [
       "'ISO-8859-1'"
      ]
     },
     "execution_count": 6,
     "metadata": {},
     "output_type": "execute_result"
    }
   ],
   "source": [
    "root_sitemap.encoding"
   ]
  },
  {
   "cell_type": "code",
   "execution_count": 7,
   "metadata": {},
   "outputs": [],
   "source": [
    "root = ET.fromstring(root_sitemap.text.encode('utf-8'))\n",
    "service_sitemap_urls = [child[0].text for child in root]"
   ]
  },
  {
   "cell_type": "markdown",
   "metadata": {},
   "source": [
    "## サービスごとの sitemap.xml を取得"
   ]
  },
  {
   "cell_type": "code",
   "execution_count": 8,
   "metadata": {},
   "outputs": [
    {
     "data": {
      "text/plain": [
       "['https://docs.aws.amazon.com/a4b/latest/ag/sitemap.xml',\n",
       " 'https://docs.aws.amazon.com/a4b/latest/APIReference/sitemap.xml',\n",
       " 'https://docs.aws.amazon.com/a4b/site_map/sitemap.xml',\n",
       " 'https://docs.aws.amazon.com/access-analyzer/latest/APIReference/sitemap.xml',\n",
       " 'https://docs.aws.amazon.com/account-billing/site_map/sitemap.xml',\n",
       " 'https://docs.aws.amazon.com/acm/latest/APIReference/sitemap.xml',\n",
       " 'https://docs.aws.amazon.com/acm/latest/userguide/sitemap.xml',\n",
       " 'https://docs.aws.amazon.com/acm/site_map/sitemap.xml',\n",
       " 'https://docs.aws.amazon.com/acm-pca/latest/APIReference/sitemap.xml',\n",
       " 'https://docs.aws.amazon.com/acm-pca/latest/userguide/sitemap.xml']"
      ]
     },
     "execution_count": 8,
     "metadata": {},
     "output_type": "execute_result"
    }
   ],
   "source": [
    "service_sitemap_urls[0:10]"
   ]
  },
  {
   "cell_type": "markdown",
   "metadata": {},
   "source": [
    "## 以下で各サービスの日本語 sitemap.xml のリストが完成する"
   ]
  },
  {
   "cell_type": "code",
   "execution_count": 9,
   "metadata": {},
   "outputs": [
    {
     "data": {
      "text/plain": [
       "1023"
      ]
     },
     "execution_count": 9,
     "metadata": {},
     "output_type": "execute_result"
    }
   ],
   "source": [
    "service_sitemap_urls_ja = [url.replace('.com/','.com/ja_jp/') for url in service_sitemap_urls]\n",
    "len(service_sitemap_urls_ja)"
   ]
  },
  {
   "cell_type": "code",
   "execution_count": 10,
   "metadata": {},
   "outputs": [
    {
     "data": {
      "text/plain": [
       "['https://docs.aws.amazon.com/ja_jp/a4b/latest/ag/sitemap.xml',\n",
       " 'https://docs.aws.amazon.com/ja_jp/a4b/latest/APIReference/sitemap.xml',\n",
       " 'https://docs.aws.amazon.com/ja_jp/a4b/site_map/sitemap.xml',\n",
       " 'https://docs.aws.amazon.com/ja_jp/access-analyzer/latest/APIReference/sitemap.xml',\n",
       " 'https://docs.aws.amazon.com/ja_jp/account-billing/site_map/sitemap.xml',\n",
       " 'https://docs.aws.amazon.com/ja_jp/acm/latest/APIReference/sitemap.xml',\n",
       " 'https://docs.aws.amazon.com/ja_jp/acm/latest/userguide/sitemap.xml',\n",
       " 'https://docs.aws.amazon.com/ja_jp/acm/site_map/sitemap.xml',\n",
       " 'https://docs.aws.amazon.com/ja_jp/acm-pca/latest/APIReference/sitemap.xml',\n",
       " 'https://docs.aws.amazon.com/ja_jp/acm-pca/latest/userguide/sitemap.xml']"
      ]
     },
     "execution_count": 10,
     "metadata": {},
     "output_type": "execute_result"
    }
   ],
   "source": [
    "service_sitemap_urls_ja[0:10]"
   ]
  },
  {
   "cell_type": "markdown",
   "metadata": {},
   "source": [
    "## サンプリング (ACM PCA)"
   ]
  },
  {
   "cell_type": "code",
   "execution_count": 11,
   "metadata": {},
   "outputs": [],
   "source": [
    "acm_sitemap = requests.get(service_sitemap_urls_ja[9])\n",
    "acm_root = ET.fromstring(acm_sitemap.text.encode('utf-8'))\n",
    "acm_urls = [child[0].text for child in acm_root]"
   ]
  },
  {
   "cell_type": "code",
   "execution_count": 12,
   "metadata": {},
   "outputs": [
    {
     "data": {
      "text/plain": [
       "['https://docs.aws.amazon.com/ja_jp/acm-pca/latest/userguide/PcaWelcome.html',\n",
       " 'https://docs.aws.amazon.com/ja_jp/acm-pca/latest/userguide/PcaRegions.html',\n",
       " 'https://docs.aws.amazon.com/ja_jp/acm-pca/latest/userguide/PcaIntegratedServices.html',\n",
       " 'https://docs.aws.amazon.com/ja_jp/acm-pca/latest/userguide/PcaLimits.html',\n",
       " 'https://docs.aws.amazon.com/ja_jp/acm-pca/latest/userguide/RFC-compliance.html',\n",
       " 'https://docs.aws.amazon.com/ja_jp/acm-pca/latest/userguide/PcaPricing.html',\n",
       " 'https://docs.aws.amazon.com/ja_jp/acm-pca/latest/userguide/security.html',\n",
       " 'https://docs.aws.amazon.com/ja_jp/acm-pca/latest/userguide/data-protection.html',\n",
       " 'https://docs.aws.amazon.com/ja_jp/acm-pca/latest/userguide/security-iam.html',\n",
       " 'https://docs.aws.amazon.com/ja_jp/acm-pca/latest/userguide/security-logging-and-monitoring.html']"
      ]
     },
     "execution_count": 12,
     "metadata": {},
     "output_type": "execute_result"
    }
   ],
   "source": [
    "acm_urls[0:10]"
   ]
  },
  {
   "cell_type": "code",
   "execution_count": 13,
   "metadata": {},
   "outputs": [],
   "source": [
    "r = requests.get(acm_urls[0])"
   ]
  },
  {
   "cell_type": "markdown",
   "metadata": {},
   "source": [
    "### Fix encoding"
   ]
  },
  {
   "cell_type": "code",
   "execution_count": 14,
   "metadata": {},
   "outputs": [
    {
     "data": {
      "text/plain": [
       "'ISO-8859-1'"
      ]
     },
     "execution_count": 14,
     "metadata": {},
     "output_type": "execute_result"
    }
   ],
   "source": [
    "r.encoding"
   ]
  },
  {
   "cell_type": "code",
   "execution_count": 15,
   "metadata": {},
   "outputs": [],
   "source": [
    "r.encoding = r.apparent_encoding"
   ]
  },
  {
   "cell_type": "code",
   "execution_count": 16,
   "metadata": {},
   "outputs": [
    {
     "data": {
      "text/plain": [
       "'utf-8'"
      ]
     },
     "execution_count": 16,
     "metadata": {},
     "output_type": "execute_result"
    }
   ],
   "source": [
    "r.encoding"
   ]
  },
  {
   "cell_type": "markdown",
   "metadata": {},
   "source": [
    "# Algolia indexing\n",
    "対象は以下のような jsonl となる"
   ]
  },
  {
   "cell_type": "code",
   "execution_count": 24,
   "metadata": {},
   "outputs": [
    {
     "name": "stdout",
     "output_type": "stream",
     "text": [
      "77 20200722032415/crawled-html-0.jsonl\n"
     ]
    }
   ],
   "source": [
    "!wc -l 20200722032415/crawled-html-0.jsonl"
   ]
  },
  {
   "cell_type": "code",
   "execution_count": 25,
   "metadata": {},
   "outputs": [],
   "source": [
    "import json"
   ]
  },
  {
   "cell_type": "markdown",
   "metadata": {},
   "source": [
    "jsonlには１行が各ドキュメントのURLとなる"
   ]
  },
  {
   "cell_type": "code",
   "execution_count": 45,
   "metadata": {},
   "outputs": [
    {
     "data": {
      "text/plain": [
       "78"
      ]
     },
     "execution_count": 45,
     "metadata": {},
     "output_type": "execute_result"
    }
   ],
   "source": [
    "json_list = []\n",
    "\n",
    "with open ('./20200722032415/crawled-html-0.jsonl', 'r') as jsonl_file:\n",
    "    json_list = list(jsonl_file)\n",
    "    \n",
    "len(json_list)"
   ]
  },
  {
   "cell_type": "markdown",
   "metadata": {},
   "source": [
    "各ドキュメントの属性は以下の通り"
   ]
  },
  {
   "cell_type": "code",
   "execution_count": 47,
   "metadata": {},
   "outputs": [
    {
     "data": {
      "text/plain": [
       "dict_keys(['url', 'status', 'last_modified', 'crawled_at', 'html'])"
      ]
     },
     "execution_count": 47,
     "metadata": {},
     "output_type": "execute_result"
    }
   ],
   "source": [
    "d = json.loads(json_list[0])\n",
    "d.keys()"
   ]
  },
  {
   "cell_type": "markdown",
   "metadata": {},
   "source": [
    "サンプルで a4b に含まれるドキュメント URLs"
   ]
  },
  {
   "cell_type": "code",
   "execution_count": 50,
   "metadata": {},
   "outputs": [
    {
     "name": "stdout",
     "output_type": "stream",
     "text": [
      "https://docs.aws.amazon.com/a4b/latest/ag/cloudtrail.html\n",
      "https://docs.aws.amazon.com/a4b/latest/ag/manage-address-books.html\n",
      "https://docs.aws.amazon.com/a4b/latest/ag/manage-rooms.html\n",
      "https://docs.aws.amazon.com/a4b/latest/ag/manage-contacts.html\n",
      "https://docs.aws.amazon.com/a4b/latest/ag/manage-users.html\n",
      "https://docs.aws.amazon.com/a4b/latest/ag/compliance.html\n",
      "https://docs.aws.amazon.com/a4b/latest/ag/manage-profiles.html\n",
      "https://docs.aws.amazon.com/a4b/latest/ag/enroll-users.html\n",
      "https://docs.aws.amazon.com/a4b/latest/ag/disaster-recovery-resiliency.html\n",
      "https://docs.aws.amazon.com/a4b/latest/ag/add-users.html\n",
      "https://docs.aws.amazon.com/a4b/latest/ag/manage-devices.html\n",
      "https://docs.aws.amazon.com/a4b/latest/ag/connect-exchange.html\n",
      "https://docs.aws.amazon.com/a4b/latest/ag/infrastructure-security.html\n",
      "https://docs.aws.amazon.com/a4b/latest/ag/voice-restrict.html\n",
      "https://docs.aws.amazon.com/a4b/latest/ag/manage-network-profiles.html\n",
      "https://docs.aws.amazon.com/a4b/latest/ag/scheduling-assistant.html\n",
      "https://docs.aws.amazon.com/a4b/latest/ag/vulnerability-analysis-and-management.html\n",
      "https://docs.aws.amazon.com/a4b/latest/ag/creating-reports.html\n",
      "https://docs.aws.amazon.com/a4b/latest/ag/manage-skills.html\n",
      "https://docs.aws.amazon.com/a4b/latest/ag/what-is.html\n",
      "https://docs.aws.amazon.com/a4b/latest/ag/security-best-practices.html\n",
      "https://docs.aws.amazon.com/a4b/latest/ag/report-prerequisites.html\n",
      "https://docs.aws.amazon.com/a4b/latest/ag/private-skills.html\n",
      "https://docs.aws.amazon.com/a4b/latest/ag/setting-up.html\n",
      "https://docs.aws.amazon.com/a4b/latest/ag/doc-history.html\n",
      "https://docs.aws.amazon.com/a4b/latest/ag/create-report.html\n",
      "https://docs.aws.amazon.com/a4b/latest/ag/blueprints.html\n",
      "https://docs.aws.amazon.com/a4b/latest/ag/console_signup.html\n",
      "https://docs.aws.amazon.com/a4b/latest/ag/manage-skill-groups.html\n",
      "https://docs.aws.amazon.com/a4b/latest/ag/schedule-reports.html\n",
      "https://docs.aws.amazon.com/a4b/latest/ag/room-systems.html\n",
      "https://docs.aws.amazon.com/a4b/latest/ag/create-IAM.html\n",
      "https://docs.aws.amazon.com/a4b/latest/ag/zoom-rooms.html\n",
      "https://docs.aws.amazon.com/a4b/latest/ag/security.html\n",
      "https://docs.aws.amazon.com/a4b/latest/ag/zoom-account.html\n",
      "https://docs.aws.amazon.com/a4b/latest/ag/firewall-network.html\n",
      "https://docs.aws.amazon.com/a4b/latest/ag/zoom-app.html\n",
      "https://docs.aws.amazon.com/a4b/latest/ag/data-protection.html\n",
      "https://docs.aws.amazon.com/a4b/latest/ag/zoom-configure.html\n",
      "https://docs.aws.amazon.com/a4b/latest/ag/dst-beta-prereq.html\n",
      "https://docs.aws.amazon.com/a4b/latest/ag/zoom-settings.html\n",
      "https://docs.aws.amazon.com/a4b/latest/ag/security-iam.html\n",
      "https://docs.aws.amazon.com/a4b/latest/ag/zoom-control.html\n",
      "https://docs.aws.amazon.com/a4b/latest/ag/AVS-permissions.html\n",
      "https://docs.aws.amazon.com/a4b/latest/ag/zoom-troubleshoot.html\n",
      "https://docs.aws.amazon.com/a4b/latest/ag/security_iam_service-with-iam.html\n",
      "https://docs.aws.amazon.com/a4b/latest/ag/zoom-security.html\n",
      "https://docs.aws.amazon.com/a4b/latest/ag/zoom-uninstall.html\n",
      "https://docs.aws.amazon.com/a4b/latest/ag/use-zoom.html\n",
      "https://docs.aws.amazon.com/a4b/latest/ag/using-cisco.html\n",
      "https://docs.aws.amazon.com/a4b/latest/ag/using-poly.html\n",
      "https://docs.aws.amazon.com/a4b/latest/ag/using-poly-trio.html\n",
      "https://docs.aws.amazon.com/a4b/latest/ag/lifesize.html\n",
      "https://docs.aws.amazon.com/a4b/latest/ag/manage-conferencing.html\n",
      "https://docs.aws.amazon.com/a4b/latest/ag/meeting-commands.html\n",
      "https://docs.aws.amazon.com/a4b/latest/ag/manage-calendaring.html\n",
      "https://docs.aws.amazon.com/a4b/latest/ag/office.html\n",
      "https://docs.aws.amazon.com/a4b/latest/ag/google.html\n",
      "https://docs.aws.amazon.com/a4b/latest/ag/exchange.html\n",
      "https://docs.aws.amazon.com/a4b/latest/ag/setup-conferencing.html\n",
      "https://docs.aws.amazon.com/a4b/latest/ag/understand-conferencing.html\n",
      "https://docs.aws.amazon.com/a4b/latest/ag/conference-providers.html\n",
      "https://docs.aws.amazon.com/a4b/latest/ag/PSTN-settings.html\n",
      "https://docs.aws.amazon.com/a4b/latest/ag/SIP-settings.html\n",
      "https://docs.aws.amazon.com/a4b/latest/ag/calendar-integration.html\n",
      "https://docs.aws.amazon.com/a4b/latest/ag/manage-providers.html\n",
      "https://docs.aws.amazon.com/a4b/latest/ag/a4b-gateway.html\n",
      "https://docs.aws.amazon.com/a4b/latest/ag/install-gateway.html\n",
      "https://docs.aws.amazon.com/a4b/latest/ag/getting-started.html\n",
      "https://docs.aws.amazon.com/a4b/latest/ag/run-gateways.html\n",
      "https://docs.aws.amazon.com/a4b/latest/ag/security_iam_id-based-policy-examples.html\n",
      "https://docs.aws.amazon.com/a4b/latest/ag/maintain-gateway.html\n",
      "https://docs.aws.amazon.com/a4b/latest/ag/manage-shared-devices.html\n",
      "https://docs.aws.amazon.com/a4b/latest/ag/room-settings.html\n",
      "https://docs.aws.amazon.com/a4b/latest/ag/security_iam_troubleshoot.html\n",
      "https://docs.aws.amazon.com/a4b/latest/ag/room-metrics.html\n",
      "https://docs.aws.amazon.com/a4b/latest/ag/announcements.html\n",
      "https://docs.aws.amazon.com/a4b/latest/ag/manage-calling.html\n"
     ]
    }
   ],
   "source": [
    "for j in json_list:\n",
    "    d = json.loads(j)\n",
    "    print(d['url'])"
   ]
  },
  {
   "cell_type": "code",
   "execution_count": 86,
   "metadata": {},
   "outputs": [],
   "source": [
    "import lxml\n",
    "from lxml.html.clean import clean_html"
   ]
  },
  {
   "cell_type": "markdown",
   "metadata": {},
   "source": [
    "インデックスする属性を HTML から取得する"
   ]
  },
  {
   "cell_type": "code",
   "execution_count": null,
   "metadata": {},
   "outputs": [],
   "source": [
    "# for j in json_list:\n",
    "#     d = json.loads(j)\n",
    "#     html = lxml.html.fromstring(d['html'])\n",
    "#     print(html.cssselect('title')[0].text)\n",
    "\n",
    "d = json.loads(json_list[0])\n",
    "html = lxml.html.fromstring(d['html'])\n",
    "# clean_html(html).text_content()"
   ]
  },
  {
   "cell_type": "code",
   "execution_count": 115,
   "metadata": {},
   "outputs": [
    {
     "name": "stdout",
     "output_type": "stream",
     "text": [
      "https://docs.aws.amazon.com/a4b/latest/ag/cloudtrail.html\n",
      "Logging and Monitoring in Alexa for Business - Alexa for Business\n",
      "Alexa for Business\n",
      "Administration Guide\n",
      "https://docs.aws.amazon.com/a4b/latest/ag/manage-address-books.html\n",
      "Managing Address Books - Alexa for Business\n",
      "Alexa for Business\n",
      "Administration Guide\n",
      "https://docs.aws.amazon.com/a4b/latest/ag/manage-rooms.html\n",
      "Managing Rooms - Alexa for Business\n",
      "Alexa for Business\n",
      "Administration Guide\n",
      "https://docs.aws.amazon.com/a4b/latest/ag/manage-contacts.html\n",
      "Managing Contacts - Alexa for Business\n",
      "Alexa for Business\n",
      "Administration Guide\n",
      "https://docs.aws.amazon.com/a4b/latest/ag/manage-users.html\n",
      "Managing Users - Alexa for Business\n",
      "Alexa for Business\n",
      "Administration Guide\n",
      "https://docs.aws.amazon.com/a4b/latest/ag/compliance.html\n",
      "Compliance Validation for Alexa for Business - Alexa for Business\n",
      "Alexa for Business\n",
      "Administration Guide\n",
      "https://docs.aws.amazon.com/a4b/latest/ag/manage-profiles.html\n",
      "Managing Room Profiles - Alexa for Business\n",
      "Alexa for Business\n",
      "Administration Guide\n",
      "https://docs.aws.amazon.com/a4b/latest/ag/enroll-users.html\n",
      "Set up Enrollment - Alexa for Business\n",
      "Alexa for Business\n",
      "Administration Guide\n",
      "https://docs.aws.amazon.com/a4b/latest/ag/disaster-recovery-resiliency.html\n",
      "Resilience in Alexa for Business - Alexa for Business\n",
      "Alexa for Business\n",
      "Administration Guide\n",
      "https://docs.aws.amazon.com/a4b/latest/ag/add-users.html\n",
      "Invite and Remove Users - Alexa for Business\n",
      "Alexa for Business\n",
      "Administration Guide\n"
     ]
    }
   ],
   "source": [
    "for j in json_list[0:10]:\n",
    "    d = json.loads(j)\n",
    "    print(d['url'])\n",
    "    html = lxml.html.fromstring(d['html'])\n",
    "    title = html.cssselect('title')[0].text\n",
    "    print(title)\n",
    "    \n",
    "    for meta in html.cssselect('meta'):\n",
    "#         print(meta.attrib)\n",
    "        if meta.get(\"name\") == \"product\":\n",
    "            print(meta.get(\"content\"))\n",
    "        if meta.get(\"name\") == \"guide\":\n",
    "            print(meta.get(\"content\"))"
   ]
  }
 ],
 "metadata": {
  "kernelspec": {
   "display_name": "Python 3",
   "language": "python",
   "name": "python3"
  },
  "language_info": {
   "codemirror_mode": {
    "name": "ipython",
    "version": 3
   },
   "file_extension": ".py",
   "mimetype": "text/x-python",
   "name": "python",
   "nbconvert_exporter": "python",
   "pygments_lexer": "ipython3",
   "version": "3.8.2"
  }
 },
 "nbformat": 4,
 "nbformat_minor": 4
}
